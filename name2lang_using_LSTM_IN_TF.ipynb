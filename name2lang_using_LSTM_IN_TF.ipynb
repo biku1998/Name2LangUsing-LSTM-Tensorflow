{
  "nbformat": 4,
  "nbformat_minor": 0,
  "metadata": {
    "colab": {
      "name": "name2lang_usingTF.ipynb",
      "version": "0.3.2",
      "provenance": [],
      "collapsed_sections": []
    },
    "kernelspec": {
      "name": "python3",
      "display_name": "Python 3"
    },
    "accelerator": "GPU"
  },
  "cells": [
    {
      "cell_type": "markdown",
      "metadata": {
        "id": "UDeE-jVzzF3T",
        "colab_type": "text"
      },
      "source": [
        "## Name 2 lang classification task using tensorflow\n",
        "\n",
        "  The task that we are trying to approach is given a name we have to predict its nationality or which lang it belongs to.\n",
        "  For e.g   ('Whelan', 'Irish'),\n",
        " ('William', 'Irish'),\n",
        " ('Abana', 'Spanish'),\n",
        " ('Abano', 'Spanish'),\n",
        " ('Abarca', 'Spanish').\n",
        " The data set is present in txt file."
      ]
    },
    {
      "cell_type": "markdown",
      "metadata": {
        "id": "OqEevK6wNy1f",
        "colab_type": "text"
      },
      "source": [
        "### Imports : "
      ]
    },
    {
      "cell_type": "code",
      "metadata": {
        "id": "QhdOUwk4ylsF",
        "colab_type": "code",
        "colab": {}
      },
      "source": [
        "from io import open\n",
        "import os, string, random, time, math\n",
        "import matplotlib.pyplot as plt\n",
        "import seaborn as sns\n",
        "import numpy as np"
      ],
      "execution_count": 0,
      "outputs": []
    },
    {
      "cell_type": "code",
      "metadata": {
        "id": "oOQrlw1YEQYB",
        "colab_type": "code",
        "outputId": "3150ad35-cf53-4cb1-cc0d-b5f2de3f8643",
        "colab": {
          "base_uri": "https://localhost:8080/",
          "height": 35
        }
      },
      "source": [
        "import tensorflow as tf\n",
        "print(tf.__version__)"
      ],
      "execution_count": 2,
      "outputs": [
        {
          "output_type": "stream",
          "text": [
            "1.14.0\n"
          ],
          "name": "stdout"
        }
      ]
    },
    {
      "cell_type": "code",
      "metadata": {
        "id": "9LjSGPrj1OTo",
        "colab_type": "code",
        "colab": {}
      },
      "source": [
        "from keras.models import Sequential\n",
        "from keras.layers import Dense\n",
        "from keras.layers import LSTM\n",
        "from keras.layers.embeddings import Embedding\n",
        "from keras.preprocessing import sequence\n",
        "from keras import optimizers"
      ],
      "execution_count": 0,
      "outputs": []
    },
    {
      "cell_type": "code",
      "metadata": {
        "id": "vESJE0zvzEaE",
        "colab_type": "code",
        "colab": {}
      },
      "source": [
        "from sklearn.model_selection import train_test_split"
      ],
      "execution_count": 0,
      "outputs": []
    },
    {
      "cell_type": "code",
      "metadata": {
        "id": "lwD8CPdlzO7j",
        "colab_type": "code",
        "colab": {}
      },
      "source": [
        "from IPython.display import clear_output"
      ],
      "execution_count": 0,
      "outputs": []
    },
    {
      "cell_type": "markdown",
      "metadata": {
        "id": "2ehFtTKkN1G6",
        "colab_type": "text"
      },
      "source": [
        "### Reading the text file and saving the data in some data-structures."
      ]
    },
    {
      "cell_type": "code",
      "metadata": {
        "id": "9yWL5kZEzRZ7",
        "colab_type": "code",
        "colab": {}
      },
      "source": [
        "languages = []\n",
        "data = []\n",
        "X = []\n",
        "Y = []\n",
        "\n",
        "with open('name2lang.txt', 'r') as f: \n",
        "    for line in f:\n",
        "        line = line.split(',')\n",
        "        name = line[0].strip()\n",
        "        lang = line[1].strip()\n",
        "        if not lang in languages:\n",
        "            languages.append(lang)\n",
        "        X.append(name)\n",
        "        Y.append(lang)\n",
        "        data.append((name, lang))\n",
        "\n",
        "n_languages = len(languages) # will be used to design o/p layer of the model."
      ],
      "execution_count": 0,
      "outputs": []
    },
    {
      "cell_type": "markdown",
      "metadata": {
        "id": "P4wF9P_qN-8D",
        "colab_type": "text"
      },
      "source": [
        "### Creating a dictionary to store letter and its frequency in the dataset."
      ]
    },
    {
      "cell_type": "code",
      "metadata": {
        "id": "U4j8ZqgznvoP",
        "colab_type": "code",
        "colab": {}
      },
      "source": [
        "char_to_freq = {}"
      ],
      "execution_count": 0,
      "outputs": []
    },
    {
      "cell_type": "code",
      "metadata": {
        "id": "6b7XuwHNoexP",
        "colab_type": "code",
        "colab": {}
      },
      "source": [
        "all_letters = string.ascii_letters + \" .,;'\"\n",
        "n_letters = len(all_letters)"
      ],
      "execution_count": 0,
      "outputs": []
    },
    {
      "cell_type": "code",
      "metadata": {
        "id": "o_0jsw7euO7P",
        "colab_type": "code",
        "colab": {
          "base_uri": "https://localhost:8080/",
          "height": 71
        },
        "outputId": "f5927848-fbfa-4102-fb19-b597a7d1aa7b"
      },
      "source": [
        "print(n_letters)\n",
        "print(languages)"
      ],
      "execution_count": 9,
      "outputs": [
        {
          "output_type": "stream",
          "text": [
            "57\n",
            "['Portuguese', 'Irish', 'Spanish', 'Vietnamese', 'Chinese', 'Greek', 'Czech', 'Dutch', 'Japanese', 'French', 'German', 'Scottish', 'English', 'Russian', 'Polish', 'Arabic', 'Korean', 'Italian']\n"
          ],
          "name": "stdout"
        }
      ]
    },
    {
      "cell_type": "code",
      "metadata": {
        "id": "WwWNg_QJ-U4E",
        "colab_type": "code",
        "colab": {
          "base_uri": "https://localhost:8080/",
          "height": 35
        },
        "outputId": "27379699-3f24-4ab9-e3b1-ff2291fa8168"
      },
      "source": [
        "# lets see what is the max len in X\n",
        "len(max(X,key = len))"
      ],
      "execution_count": 10,
      "outputs": [
        {
          "output_type": "execute_result",
          "data": {
            "text/plain": [
              "19"
            ]
          },
          "metadata": {
            "tags": []
          },
          "execution_count": 10
        }
      ]
    },
    {
      "cell_type": "code",
      "metadata": {
        "id": "6q3KmaNEovWU",
        "colab_type": "code",
        "colab": {}
      },
      "source": [
        "for l in all_letters:\n",
        "  char_to_freq[l] = 0"
      ],
      "execution_count": 0,
      "outputs": []
    },
    {
      "cell_type": "code",
      "metadata": {
        "id": "2GdABbroo3xG",
        "colab_type": "code",
        "colab": {}
      },
      "source": [
        "char_to_freq"
      ],
      "execution_count": 0,
      "outputs": []
    },
    {
      "cell_type": "code",
      "metadata": {
        "id": "9YCuQgCOo5ZH",
        "colab_type": "code",
        "colab": {}
      },
      "source": [
        "for name in X:\n",
        "  for n in name:\n",
        "    char_to_freq[n] += 1"
      ],
      "execution_count": 0,
      "outputs": []
    },
    {
      "cell_type": "code",
      "metadata": {
        "id": "51vLB6TQpn-m",
        "colab_type": "code",
        "colab": {}
      },
      "source": [
        "char_to_freq"
      ],
      "execution_count": 0,
      "outputs": []
    },
    {
      "cell_type": "code",
      "metadata": {
        "id": "tJ-aUDJvpxcx",
        "colab_type": "code",
        "colab": {}
      },
      "source": [
        "import collections\n",
        "sorted_char_to_f = sorted(char_to_freq.items(), key=lambda kv: kv[1])"
      ],
      "execution_count": 0,
      "outputs": []
    },
    {
      "cell_type": "code",
      "metadata": {
        "id": "Zdir_X3Urc95",
        "colab_type": "code",
        "colab": {}
      },
      "source": [
        "char_to_freq_count = collections.OrderedDict()\n",
        "for pair in sorted_char_to_f:\n",
        "  char_to_freq_count[pair[0]] = pair[1]"
      ],
      "execution_count": 0,
      "outputs": []
    },
    {
      "cell_type": "code",
      "metadata": {
        "id": "tXKCHylhreir",
        "colab_type": "code",
        "colab": {}
      },
      "source": [
        "char_to_freq_count"
      ],
      "execution_count": 0,
      "outputs": []
    },
    {
      "cell_type": "code",
      "metadata": {
        "id": "g5CAMZdSswEx",
        "colab_type": "code",
        "colab": {}
      },
      "source": [
        "import pandas as pd\n",
        "df_char_freq_rank = pd.DataFrame(index = char_to_freq_count.keys())"
      ],
      "execution_count": 0,
      "outputs": []
    },
    {
      "cell_type": "code",
      "metadata": {
        "id": "1nLAHYHHt4Sd",
        "colab_type": "code",
        "colab": {
          "base_uri": "https://localhost:8080/",
          "height": 202
        },
        "outputId": "323c17d4-1d23-4aa2-f3da-b29dbe1e17bb"
      },
      "source": [
        "df_char_freq_rank['index'] = range(1,58)\n",
        "df_char_freq_rank['count'] = char_to_freq_count.values()\n",
        "df_char_freq_rank.head()"
      ],
      "execution_count": 19,
      "outputs": [
        {
          "output_type": "execute_result",
          "data": {
            "text/html": [
              "<div>\n",
              "<style scoped>\n",
              "    .dataframe tbody tr th:only-of-type {\n",
              "        vertical-align: middle;\n",
              "    }\n",
              "\n",
              "    .dataframe tbody tr th {\n",
              "        vertical-align: top;\n",
              "    }\n",
              "\n",
              "    .dataframe thead th {\n",
              "        text-align: right;\n",
              "    }\n",
              "</style>\n",
              "<table border=\"1\" class=\"dataframe\">\n",
              "  <thead>\n",
              "    <tr style=\"text-align: right;\">\n",
              "      <th></th>\n",
              "      <th>index</th>\n",
              "      <th>count</th>\n",
              "    </tr>\n",
              "  </thead>\n",
              "  <tbody>\n",
              "    <tr>\n",
              "      <th>.</th>\n",
              "      <td>1</td>\n",
              "      <td>0</td>\n",
              "    </tr>\n",
              "    <tr>\n",
              "      <th>,</th>\n",
              "      <td>2</td>\n",
              "      <td>0</td>\n",
              "    </tr>\n",
              "    <tr>\n",
              "      <th>;</th>\n",
              "      <td>3</td>\n",
              "      <td>0</td>\n",
              "    </tr>\n",
              "    <tr>\n",
              "      <th>X</th>\n",
              "      <td>4</td>\n",
              "      <td>14</td>\n",
              "    </tr>\n",
              "    <tr>\n",
              "      <th>q</th>\n",
              "      <td>5</td>\n",
              "      <td>38</td>\n",
              "    </tr>\n",
              "  </tbody>\n",
              "</table>\n",
              "</div>"
            ],
            "text/plain": [
              "   index  count\n",
              ".      1      0\n",
              ",      2      0\n",
              ";      3      0\n",
              "X      4     14\n",
              "q      5     38"
            ]
          },
          "metadata": {
            "tags": []
          },
          "execution_count": 19
        }
      ]
    },
    {
      "cell_type": "code",
      "metadata": {
        "id": "2iLoo7z8_oZN",
        "colab_type": "code",
        "colab": {
          "base_uri": "https://localhost:8080/",
          "height": 202
        },
        "outputId": "e9b900c0-f656-49a2-be05-858ba823d7b6"
      },
      "source": [
        "df_char_freq_rank.tail()"
      ],
      "execution_count": 20,
      "outputs": [
        {
          "output_type": "execute_result",
          "data": {
            "text/html": [
              "<div>\n",
              "<style scoped>\n",
              "    .dataframe tbody tr th:only-of-type {\n",
              "        vertical-align: middle;\n",
              "    }\n",
              "\n",
              "    .dataframe tbody tr th {\n",
              "        vertical-align: top;\n",
              "    }\n",
              "\n",
              "    .dataframe thead th {\n",
              "        text-align: right;\n",
              "    }\n",
              "</style>\n",
              "<table border=\"1\" class=\"dataframe\">\n",
              "  <thead>\n",
              "    <tr style=\"text-align: right;\">\n",
              "      <th></th>\n",
              "      <th>index</th>\n",
              "      <th>count</th>\n",
              "    </tr>\n",
              "  </thead>\n",
              "  <tbody>\n",
              "    <tr>\n",
              "      <th>n</th>\n",
              "      <td>53</td>\n",
              "      <td>9348</td>\n",
              "    </tr>\n",
              "    <tr>\n",
              "      <th>i</th>\n",
              "      <td>54</td>\n",
              "      <td>10178</td>\n",
              "    </tr>\n",
              "    <tr>\n",
              "      <th>e</th>\n",
              "      <td>55</td>\n",
              "      <td>10269</td>\n",
              "    </tr>\n",
              "    <tr>\n",
              "      <th>o</th>\n",
              "      <td>56</td>\n",
              "      <td>10778</td>\n",
              "    </tr>\n",
              "    <tr>\n",
              "      <th>a</th>\n",
              "      <td>57</td>\n",
              "      <td>14743</td>\n",
              "    </tr>\n",
              "  </tbody>\n",
              "</table>\n",
              "</div>"
            ],
            "text/plain": [
              "   index  count\n",
              "n     53   9348\n",
              "i     54  10178\n",
              "e     55  10269\n",
              "o     56  10778\n",
              "a     57  14743"
            ]
          },
          "metadata": {
            "tags": []
          },
          "execution_count": 20
        }
      ]
    },
    {
      "cell_type": "code",
      "metadata": {
        "id": "rwci9_EMygPa",
        "colab_type": "code",
        "colab": {
          "base_uri": "https://localhost:8080/",
          "height": 35
        },
        "outputId": "96ad1680-bf32-4a5a-f87a-754242c9b38c"
      },
      "source": [
        "df_char_freq_rank['index']['q']"
      ],
      "execution_count": 21,
      "outputs": [
        {
          "output_type": "execute_result",
          "data": {
            "text/plain": [
              "5"
            ]
          },
          "metadata": {
            "tags": []
          },
          "execution_count": 21
        }
      ]
    },
    {
      "cell_type": "markdown",
      "metadata": {
        "id": "NmzomYIZOOON",
        "colab_type": "text"
      },
      "source": [
        "### Functions to construct numerical representation for a given name and lang."
      ]
    },
    {
      "cell_type": "code",
      "metadata": {
        "id": "Cl0iq7UwuaPs",
        "colab_type": "code",
        "colab": {}
      },
      "source": [
        "def name_rep(name):\n",
        "  rep = []\n",
        "  for l in name:\n",
        "    rep.append(df_char_freq_rank['index'][l])\n",
        "  return rep\n",
        "  "
      ],
      "execution_count": 0,
      "outputs": []
    },
    {
      "cell_type": "code",
      "metadata": {
        "id": "qoAEso4F3ETP",
        "colab_type": "code",
        "colab": {}
      },
      "source": [
        "def lang_rep(lang):\n",
        "  rep = np.zeros(n_languages)\n",
        "  rep[languages.index(lang)] = 1\n",
        "  return rep"
      ],
      "execution_count": 0,
      "outputs": []
    },
    {
      "cell_type": "code",
      "metadata": {
        "id": "OB6aQTey3xnS",
        "colab_type": "code",
        "colab": {
          "base_uri": "https://localhost:8080/",
          "height": 52
        },
        "outputId": "1ae19b80-3981-42ef-f180-9cd45ca03b2d"
      },
      "source": [
        "(lang_rep('Irish'))"
      ],
      "execution_count": 40,
      "outputs": [
        {
          "output_type": "execute_result",
          "data": {
            "text/plain": [
              "array([0., 1., 0., 0., 0., 0., 0., 0., 0., 0., 0., 0., 0., 0., 0., 0., 0.,\n",
              "       0.])"
            ]
          },
          "metadata": {
            "tags": []
          },
          "execution_count": 40
        }
      ]
    },
    {
      "cell_type": "code",
      "metadata": {
        "id": "rjpkGLYq2JjT",
        "colab_type": "code",
        "colab": {
          "base_uri": "https://localhost:8080/",
          "height": 35
        },
        "outputId": "91898ba4-2e32-4f65-c5c9-5e734ccfea4e"
      },
      "source": [
        "name_rep(',qXq')"
      ],
      "execution_count": 25,
      "outputs": [
        {
          "output_type": "execute_result",
          "data": {
            "text/plain": [
              "[2, 5, 4, 5]"
            ]
          },
          "metadata": {
            "tags": []
          },
          "execution_count": 25
        }
      ]
    },
    {
      "cell_type": "code",
      "metadata": {
        "id": "e7MlVPA22sHn",
        "colab_type": "code",
        "colab": {}
      },
      "source": [
        "x_train, x_test, y_train, y_test = train_test_split(X, Y, test_size=0.2, random_state=0, stratify=Y)"
      ],
      "execution_count": 0,
      "outputs": []
    },
    {
      "cell_type": "code",
      "metadata": {
        "id": "Vz_V8X2V2MOv",
        "colab_type": "code",
        "colab": {
          "base_uri": "https://localhost:8080/",
          "height": 35
        },
        "outputId": "217d25e4-2d08-41c7-e09b-b0378e290b3e"
      },
      "source": [
        "print(len(x_train),len(x_test))"
      ],
      "execution_count": 42,
      "outputs": [
        {
          "output_type": "stream",
          "text": [
            "16040 4010\n"
          ],
          "name": "stdout"
        }
      ]
    },
    {
      "cell_type": "markdown",
      "metadata": {
        "id": "nzUppFuPOdf9",
        "colab_type": "text"
      },
      "source": [
        "### Creating final train and test sets"
      ]
    },
    {
      "cell_type": "code",
      "metadata": {
        "id": "tYv-tVNc22Zk",
        "colab_type": "code",
        "colab": {}
      },
      "source": [
        "# converting all the train and test examples to list\n",
        "\n",
        "X_train = []\n",
        "Y_train = []\n",
        "\n",
        "for xtr,ytr in zip(x_train,y_train):\n",
        "  X_train.append(name_rep(xtr))\n",
        "  Y_train.append(lang_rep(ytr))\n",
        "\n",
        "X_test = []\n",
        "Y_test = []\n",
        "\n",
        "for xtes,ytes in zip(x_test,y_test):\n",
        "  X_test.append(name_rep(xtes))\n",
        "  Y_test.append(lang_rep(ytes))\n"
      ],
      "execution_count": 0,
      "outputs": []
    },
    {
      "cell_type": "code",
      "metadata": {
        "id": "VJIxHim824rh",
        "colab_type": "code",
        "colab": {
          "base_uri": "https://localhost:8080/",
          "height": 176
        },
        "outputId": "f29d8631-3c20-4d4c-c0f5-dbd9df2e4b4e"
      },
      "source": [
        "print(X_train[:5])\n",
        "print('='*40)\n",
        "print(Y_train[:5])"
      ],
      "execution_count": 44,
      "outputs": [
        {
          "output_type": "stream",
          "text": [
            "[[38, 39, 57, 50, 51, 48, 54, 53], [30, 45, 49, 54, 42, 56, 47], [32, 34, 55, 49, 56, 39, 55, 53, 56, 48], [16, 45, 53, 53, 55, 49, 49], [18, 51, 45, 54]]\n",
            "========================================\n",
            "[array([0., 0., 0., 0., 0., 0., 0., 0., 0., 0., 0., 0., 0., 1., 0., 0., 0.,\n",
            "       0.]), array([0., 0., 0., 0., 0., 0., 0., 0., 0., 0., 0., 0., 0., 1., 0., 0., 0.,\n",
            "       0.]), array([0., 0., 0., 0., 0., 0., 0., 0., 0., 0., 0., 0., 0., 1., 0., 0., 0.,\n",
            "       0.]), array([0., 0., 0., 0., 0., 0., 0., 0., 0., 0., 0., 0., 1., 0., 0., 0., 0.,\n",
            "       0.]), array([0., 0., 0., 0., 1., 0., 0., 0., 0., 0., 0., 0., 0., 0., 0., 0., 0.,\n",
            "       0.])]\n"
          ],
          "name": "stdout"
        }
      ]
    },
    {
      "cell_type": "markdown",
      "metadata": {
        "id": "rUr_Ys8rOngx",
        "colab_type": "text"
      },
      "source": [
        "### Padding the data to improve tranning speed."
      ]
    },
    {
      "cell_type": "code",
      "metadata": {
        "id": "nN_81_0s9J-_",
        "colab_type": "code",
        "colab": {}
      },
      "source": [
        "max_name_len = 19 \n",
        "X_train = sequence.pad_sequences(X_train,maxlen=max_name_len)\n",
        "X_test = sequence.pad_sequences(X_test,maxlen=max_name_len)"
      ],
      "execution_count": 0,
      "outputs": []
    },
    {
      "cell_type": "code",
      "metadata": {
        "id": "hNwHfxLWD776",
        "colab_type": "code",
        "colab": {}
      },
      "source": [
        ""
      ],
      "execution_count": 0,
      "outputs": []
    },
    {
      "cell_type": "code",
      "metadata": {
        "id": "A7xyKKBl-uap",
        "colab_type": "code",
        "colab": {
          "base_uri": "https://localhost:8080/",
          "height": 52
        },
        "outputId": "1eebb3a3-cd5f-444c-d3b6-7d247c413888"
      },
      "source": [
        "print(X_train[0])\n",
        "print(X_train.shape)"
      ],
      "execution_count": 59,
      "outputs": [
        {
          "output_type": "stream",
          "text": [
            "[ 0  0  0  0  0  0  0  0  0  0  0 38 39 57 50 51 48 54 53]\n",
            "(16040, 19)\n"
          ],
          "name": "stdout"
        }
      ]
    },
    {
      "cell_type": "markdown",
      "metadata": {
        "id": "-HAXAXXROvSS",
        "colab_type": "text"
      },
      "source": [
        "### Building the model"
      ]
    },
    {
      "cell_type": "code",
      "metadata": {
        "id": "V967zdGK-wKP",
        "colab_type": "code",
        "colab": {
          "base_uri": "https://localhost:8080/",
          "height": 295
        },
        "outputId": "0a6547bc-7aaf-4a83-e214-a09c4798a80d"
      },
      "source": [
        "# now we will create our model\n",
        "top_alpha = 14743\n",
        "embedding_vector_len = 32\n",
        "model  = Sequential()\n",
        "model.add(Embedding(top_alpha,embedding_vector_len,input_length = max_name_len))\n",
        "model.add(LSTM(100,return_sequences=True,dropout=0.5))\n",
        "model.add(LSTM(100,return_sequences=False,dropout=0.5))\n",
        "model.add(Dense(n_languages,activation='softmax'))\n",
        "\n",
        "opt = optimizers.Adam(lr=0.01, decay=1e-6)\n",
        "\n",
        "model.compile(loss='categorical_crossentropy',optimizer = opt,metrics = ['accuracy'])\n",
        "print(model.summary())"
      ],
      "execution_count": 67,
      "outputs": [
        {
          "output_type": "stream",
          "text": [
            "_________________________________________________________________\n",
            "Layer (type)                 Output Shape              Param #   \n",
            "=================================================================\n",
            "embedding_6 (Embedding)      (None, 19, 32)            471776    \n",
            "_________________________________________________________________\n",
            "lstm_8 (LSTM)                (None, 19, 100)           53200     \n",
            "_________________________________________________________________\n",
            "lstm_9 (LSTM)                (None, 100)               80400     \n",
            "_________________________________________________________________\n",
            "dense_6 (Dense)              (None, 18)                1818      \n",
            "=================================================================\n",
            "Total params: 607,194\n",
            "Trainable params: 607,194\n",
            "Non-trainable params: 0\n",
            "_________________________________________________________________\n",
            "None\n"
          ],
          "name": "stdout"
        }
      ]
    },
    {
      "cell_type": "code",
      "metadata": {
        "id": "OWh1il5aFWrO",
        "colab_type": "code",
        "colab": {
          "base_uri": "https://localhost:8080/",
          "height": 35
        },
        "outputId": "550f7a62-07e7-49c5-9fc6-dcb911497977"
      },
      "source": [
        "type(X_test)"
      ],
      "execution_count": 61,
      "outputs": [
        {
          "output_type": "execute_result",
          "data": {
            "text/plain": [
              "numpy.ndarray"
            ]
          },
          "metadata": {
            "tags": []
          },
          "execution_count": 61
        }
      ]
    },
    {
      "cell_type": "code",
      "metadata": {
        "id": "nZS3vkBMEeFa",
        "colab_type": "code",
        "colab": {
          "base_uri": "https://localhost:8080/",
          "height": 35
        },
        "outputId": "41bc010a-ff3d-480a-953c-6f6d735387b8"
      },
      "source": [
        "# converting X's and Y's to np array\n",
        "\n",
        "Y_train = np.array(Y_train)\n",
        "Y_test = np.array(Y_test)\n",
        "\n",
        "print(type(Y_train),type(Y_test))"
      ],
      "execution_count": 53,
      "outputs": [
        {
          "output_type": "stream",
          "text": [
            "<class 'numpy.ndarray'> <class 'numpy.ndarray'>\n"
          ],
          "name": "stdout"
        }
      ]
    },
    {
      "cell_type": "markdown",
      "metadata": {
        "id": "owkjN1ROO1De",
        "colab_type": "text"
      },
      "source": [
        "### Tranning the model."
      ]
    },
    {
      "cell_type": "code",
      "metadata": {
        "id": "YHgfqoZ8A8QW",
        "colab_type": "code",
        "colab": {
          "base_uri": "https://localhost:8080/",
          "height": 1000
        },
        "outputId": "518ad0d1-4bd4-40b7-c54c-31b8cfadf58b"
      },
      "source": [
        "model.fit(X_train,Y_train,nb_epoch = 30,batch_size = 128)\n",
        "\n",
        "# final eval\n",
        "scores = model.evaluate(X_test,Y_test,verbose = 0)\n",
        "print(\"Accuracy: %.2f%%\" % (scores[1]*100))"
      ],
      "execution_count": 68,
      "outputs": [
        {
          "output_type": "stream",
          "text": [
            "/usr/local/lib/python3.6/dist-packages/ipykernel_launcher.py:1: UserWarning: The `nb_epoch` argument in `fit` has been renamed `epochs`.\n",
            "  \"\"\"Entry point for launching an IPython kernel.\n"
          ],
          "name": "stderr"
        },
        {
          "output_type": "stream",
          "text": [
            "Epoch 1/30\n",
            "16040/16040 [==============================] - 14s 888us/step - loss: 1.5220 - acc: 0.5567\n",
            "Epoch 2/30\n",
            "16040/16040 [==============================] - 12s 774us/step - loss: 1.0764 - acc: 0.6796\n",
            "Epoch 3/30\n",
            "16040/16040 [==============================] - 12s 766us/step - loss: 0.9254 - acc: 0.7205\n",
            "Epoch 4/30\n",
            "16040/16040 [==============================] - 12s 772us/step - loss: 0.8331 - acc: 0.7473\n",
            "Epoch 5/30\n",
            "16040/16040 [==============================] - 12s 773us/step - loss: 0.7790 - acc: 0.7615\n",
            "Epoch 6/30\n",
            "16040/16040 [==============================] - 12s 773us/step - loss: 0.7418 - acc: 0.7718\n",
            "Epoch 7/30\n",
            "16040/16040 [==============================] - 13s 780us/step - loss: 0.7127 - acc: 0.7807\n",
            "Epoch 8/30\n",
            "16040/16040 [==============================] - 12s 776us/step - loss: 0.6869 - acc: 0.7858\n",
            "Epoch 9/30\n",
            "16040/16040 [==============================] - 12s 776us/step - loss: 0.6677 - acc: 0.7927\n",
            "Epoch 10/30\n",
            "16040/16040 [==============================] - 12s 773us/step - loss: 0.6582 - acc: 0.7935\n",
            "Epoch 11/30\n",
            "16040/16040 [==============================] - 12s 771us/step - loss: 0.6514 - acc: 0.7984\n",
            "Epoch 12/30\n",
            "16040/16040 [==============================] - 12s 770us/step - loss: 0.6350 - acc: 0.8005\n",
            "Epoch 13/30\n",
            "16040/16040 [==============================] - 12s 765us/step - loss: 0.6280 - acc: 0.8002\n",
            "Epoch 14/30\n",
            "16040/16040 [==============================] - 12s 775us/step - loss: 0.6359 - acc: 0.8005\n",
            "Epoch 15/30\n",
            "16040/16040 [==============================] - 12s 771us/step - loss: 0.6374 - acc: 0.8016\n",
            "Epoch 16/30\n",
            "16040/16040 [==============================] - 12s 766us/step - loss: 0.6227 - acc: 0.8060\n",
            "Epoch 17/30\n",
            "16040/16040 [==============================] - 12s 767us/step - loss: 0.6129 - acc: 0.8070\n",
            "Epoch 18/30\n",
            "16040/16040 [==============================] - 12s 768us/step - loss: 0.6062 - acc: 0.8064\n",
            "Epoch 19/30\n",
            "16040/16040 [==============================] - 12s 768us/step - loss: 0.6047 - acc: 0.8069\n",
            "Epoch 20/30\n",
            "16040/16040 [==============================] - 12s 770us/step - loss: 0.6028 - acc: 0.8125\n",
            "Epoch 21/30\n",
            "16040/16040 [==============================] - 12s 773us/step - loss: 0.6021 - acc: 0.8118\n",
            "Epoch 22/30\n",
            "16040/16040 [==============================] - 12s 769us/step - loss: 0.6001 - acc: 0.8098\n",
            "Epoch 23/30\n",
            "16040/16040 [==============================] - 12s 770us/step - loss: 0.5972 - acc: 0.8090\n",
            "Epoch 24/30\n",
            "16040/16040 [==============================] - 12s 766us/step - loss: 0.5923 - acc: 0.8110\n",
            "Epoch 25/30\n",
            "16040/16040 [==============================] - 12s 771us/step - loss: 0.5938 - acc: 0.8094\n",
            "Epoch 26/30\n",
            "16040/16040 [==============================] - 12s 774us/step - loss: 0.5865 - acc: 0.8125\n",
            "Epoch 27/30\n",
            "16040/16040 [==============================] - 12s 774us/step - loss: 0.5868 - acc: 0.8135\n",
            "Epoch 28/30\n",
            "16040/16040 [==============================] - 12s 774us/step - loss: 0.5781 - acc: 0.8155\n",
            "Epoch 29/30\n",
            "16040/16040 [==============================] - 12s 769us/step - loss: 0.5931 - acc: 0.8127\n",
            "Epoch 30/30\n",
            "16040/16040 [==============================] - 12s 768us/step - loss: 0.5959 - acc: 0.8096\n",
            "Accuracy: 80.82%\n"
          ],
          "name": "stdout"
        }
      ]
    },
    {
      "cell_type": "code",
      "metadata": {
        "id": "Pksb8D9UCTT1",
        "colab_type": "code",
        "colab": {}
      },
      "source": [
        ""
      ],
      "execution_count": 0,
      "outputs": []
    }
  ]
}